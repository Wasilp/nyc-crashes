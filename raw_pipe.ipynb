{
 "metadata": {
  "language_info": {
   "codemirror_mode": {
    "name": "ipython",
    "version": 3
   },
   "file_extension": ".py",
   "mimetype": "text/x-python",
   "name": "python",
   "nbconvert_exporter": "python",
   "pygments_lexer": "ipython3",
   "version": "3.8.5-final"
  },
  "orig_nbformat": 2,
  "kernelspec": {
   "name": "python3",
   "display_name": "Python 3",
   "language": "python"
  }
 },
 "nbformat": 4,
 "nbformat_minor": 2,
 "cells": [
  {
   "cell_type": "code",
   "execution_count": 1,
   "metadata": {},
   "outputs": [],
   "source": [
    "import pandas as pd \n",
    "import numpy as np\n",
    "import geopy\n",
    "from geopy.geocoders import Nominatim\n",
    "from geopy.extra.rate_limiter import RateLimiter\n",
    "import plotly_express as px\n",
    "from geopy.point import Point\n",
    "from tqdm import tqdm\n",
    "#from pandas_profiling import ProfileReport\n",
    "\n",
    "## Import df from src \n",
    "filename = 'src/data_100000.csv'\n",
    "df = pd.read_csv(filename)\n",
    "#filename = 'missing_location.csv'\n",
    "df2 = pd.read_csv(filename)\n",
    "#Renaming col\n",
    "df = df.rename(columns={\"vehicle_type_code1\": \"vehicle_type_code_1\", \"vehicle_type_code2\": \"vehicle_type_code_2\"})\n",
    "#df2\n",
    "#profile = ProfileReport(df, title=\"Pandas Profiling Report\")"
   ]
  },
  {
   "cell_type": "code",
   "execution_count": 2,
   "metadata": {},
   "outputs": [
    {
     "output_type": "stream",
     "name": "stdout",
     "text": [
      "There are 100000 rows of data\n"
     ]
    },
    {
     "output_type": "execute_result",
     "data": {
      "text/plain": [
       "crash_date                           0\n",
       "crash_time                           0\n",
       "borough                          35026\n",
       "zip_code                         35034\n",
       "latitude                          8035\n",
       "longitude                         8035\n",
       "location                          8035\n",
       "on_street_name                   26009\n",
       "off_street_name                  52875\n",
       "cross_street_name                74033\n",
       "number_of_persons_injured            0\n",
       "number_of_persons_killed             0\n",
       "number_of_pedestrians_injured        0\n",
       "number_of_pedestrians_killed         0\n",
       "number_of_cyclist_injured            0\n",
       "number_of_cyclist_killed             0\n",
       "number_of_motorist_injured           0\n",
       "number_of_motorist_killed            0\n",
       "contributing_factor_vehicle_1      371\n",
       "contributing_factor_vehicle_2    19243\n",
       "contributing_factor_vehicle_3    91239\n",
       "contributing_factor_vehicle_4    97760\n",
       "contributing_factor_vehicle_5    99333\n",
       "collision_id                         0\n",
       "vehicle_type_code_1                740\n",
       "vehicle_type_code_2              26589\n",
       "vehicle_type_code_3              91671\n",
       "vehicle_type_code_4              97853\n",
       "vehicle_type_code_5              99354\n",
       "dtype: int64"
      ]
     },
     "metadata": {},
     "execution_count": 2
    }
   ],
   "source": [
    "## Check for missing,nul,NaN values\n",
    "print(\"There are {} rows of data\".format(len(df)))\n",
    "nul_data = df.isnull().sum()\n",
    "## setting to false missing data\n",
    "nul_data"
   ]
  },
  {
   "cell_type": "code",
   "execution_count": 3,
   "metadata": {},
   "outputs": [
    {
     "output_type": "execute_result",
     "data": {
      "text/plain": [
       "                       vehicle_type_code_1  \\\n",
       "0      Station Wagon/Sport Utility Vehicle   \n",
       "1                                    Sedan   \n",
       "2                                    Sedan   \n",
       "3                               Motorcycle   \n",
       "4                                    Sedan   \n",
       "...                                    ...   \n",
       "99995  Station Wagon/Sport Utility Vehicle   \n",
       "99996  Station Wagon/Sport Utility Vehicle   \n",
       "99997                                Sedan   \n",
       "99998                                Sedan   \n",
       "99999                                Sedan   \n",
       "\n",
       "                       vehicle_type_code_2 vehicle_type_code_3  \\\n",
       "0                              Unspecified         Unspecified   \n",
       "1                              Unspecified         Unspecified   \n",
       "2                                    Sedan         Unspecified   \n",
       "3                                    Sedan                 Bus   \n",
       "4      Station Wagon/Sport Utility Vehicle         Unspecified   \n",
       "...                                    ...                 ...   \n",
       "99995                          Unspecified         Unspecified   \n",
       "99996  Station Wagon/Sport Utility Vehicle         Unspecified   \n",
       "99997                            Box Truck         Unspecified   \n",
       "99998                                  Bus         Unspecified   \n",
       "99999  Station Wagon/Sport Utility Vehicle         Unspecified   \n",
       "\n",
       "      vehicle_type_code_4 vehicle_type_code_5  \n",
       "0             Unspecified         Unspecified  \n",
       "1             Unspecified         Unspecified  \n",
       "2             Unspecified         Unspecified  \n",
       "3             Unspecified         Unspecified  \n",
       "4             Unspecified         Unspecified  \n",
       "...                   ...                 ...  \n",
       "99995         Unspecified         Unspecified  \n",
       "99996         Unspecified         Unspecified  \n",
       "99997         Unspecified         Unspecified  \n",
       "99998         Unspecified         Unspecified  \n",
       "99999         Unspecified         Unspecified  \n",
       "\n",
       "[100000 rows x 5 columns]"
      ],
      "text/html": "<div>\n<style scoped>\n    .dataframe tbody tr th:only-of-type {\n        vertical-align: middle;\n    }\n\n    .dataframe tbody tr th {\n        vertical-align: top;\n    }\n\n    .dataframe thead th {\n        text-align: right;\n    }\n</style>\n<table border=\"1\" class=\"dataframe\">\n  <thead>\n    <tr style=\"text-align: right;\">\n      <th></th>\n      <th>vehicle_type_code_1</th>\n      <th>vehicle_type_code_2</th>\n      <th>vehicle_type_code_3</th>\n      <th>vehicle_type_code_4</th>\n      <th>vehicle_type_code_5</th>\n    </tr>\n  </thead>\n  <tbody>\n    <tr>\n      <th>0</th>\n      <td>Station Wagon/Sport Utility Vehicle</td>\n      <td>Unspecified</td>\n      <td>Unspecified</td>\n      <td>Unspecified</td>\n      <td>Unspecified</td>\n    </tr>\n    <tr>\n      <th>1</th>\n      <td>Sedan</td>\n      <td>Unspecified</td>\n      <td>Unspecified</td>\n      <td>Unspecified</td>\n      <td>Unspecified</td>\n    </tr>\n    <tr>\n      <th>2</th>\n      <td>Sedan</td>\n      <td>Sedan</td>\n      <td>Unspecified</td>\n      <td>Unspecified</td>\n      <td>Unspecified</td>\n    </tr>\n    <tr>\n      <th>3</th>\n      <td>Motorcycle</td>\n      <td>Sedan</td>\n      <td>Bus</td>\n      <td>Unspecified</td>\n      <td>Unspecified</td>\n    </tr>\n    <tr>\n      <th>4</th>\n      <td>Sedan</td>\n      <td>Station Wagon/Sport Utility Vehicle</td>\n      <td>Unspecified</td>\n      <td>Unspecified</td>\n      <td>Unspecified</td>\n    </tr>\n    <tr>\n      <th>...</th>\n      <td>...</td>\n      <td>...</td>\n      <td>...</td>\n      <td>...</td>\n      <td>...</td>\n    </tr>\n    <tr>\n      <th>99995</th>\n      <td>Station Wagon/Sport Utility Vehicle</td>\n      <td>Unspecified</td>\n      <td>Unspecified</td>\n      <td>Unspecified</td>\n      <td>Unspecified</td>\n    </tr>\n    <tr>\n      <th>99996</th>\n      <td>Station Wagon/Sport Utility Vehicle</td>\n      <td>Station Wagon/Sport Utility Vehicle</td>\n      <td>Unspecified</td>\n      <td>Unspecified</td>\n      <td>Unspecified</td>\n    </tr>\n    <tr>\n      <th>99997</th>\n      <td>Sedan</td>\n      <td>Box Truck</td>\n      <td>Unspecified</td>\n      <td>Unspecified</td>\n      <td>Unspecified</td>\n    </tr>\n    <tr>\n      <th>99998</th>\n      <td>Sedan</td>\n      <td>Bus</td>\n      <td>Unspecified</td>\n      <td>Unspecified</td>\n      <td>Unspecified</td>\n    </tr>\n    <tr>\n      <th>99999</th>\n      <td>Sedan</td>\n      <td>Station Wagon/Sport Utility Vehicle</td>\n      <td>Unspecified</td>\n      <td>Unspecified</td>\n      <td>Unspecified</td>\n    </tr>\n  </tbody>\n</table>\n<p>100000 rows × 5 columns</p>\n</div>"
     },
     "metadata": {},
     "execution_count": 3
    }
   ],
   "source": [
    "vehicle_type_code = ['vehicle_type_code_1','vehicle_type_code_2','vehicle_type_code_3','vehicle_type_code_4','vehicle_type_code_5']\n",
    "nb_accident_by_vehicle = df[['vehicle_type_code_1','vehicle_type_code_2','vehicle_type_code_3','vehicle_type_code_4','vehicle_type_code_5']].apply(pd.value_counts)\n",
    "df[vehicle_type_code] = df[vehicle_type_code].fillna('Unspecified')\n",
    "df[vehicle_type_code]"
   ]
  },
  {
   "cell_type": "code",
   "execution_count": 4,
   "metadata": {},
   "outputs": [],
   "source": [
    "contributing_factor = ['contributing_factor_vehicle_1','contributing_factor_vehicle_2','contributing_factor_vehicle_3','contributing_factor_vehicle_4','contributing_factor_vehicle_5']\n",
    "nb_accident_by_factor = df[['contributing_factor_vehicle_1','contributing_factor_vehicle_2','contributing_factor_vehicle_3','contributing_factor_vehicle_4','contributing_factor_vehicle_5']].apply(pd.value_counts)\n",
    "df[contributing_factor]= df[contributing_factor].fillna('Unspecidifed')"
   ]
  },
  {
   "cell_type": "code",
   "execution_count": 5,
   "metadata": {
    "tags": []
   },
   "outputs": [],
   "source": [
    "df.sort_values(by='location',inplace=True)\n",
    "df.zip_code = df.zip_code.fillna(method='ffill')\n",
    "df.borough = df.borough.fillna(method='ffill')\n",
    "## Might be wrong need the make a if to check if off or on are null then fillna\n",
    "df.cross_street_name = np.where(df['on_street_name'].isnull(),df['cross_street_name'].fillna(method='ffill'),False)\n",
    "df.on_street_name = df.on_street_name.fillna(method='ffill')\n",
    "df.off_street_name = df.off_street_name.fillna(method='ffill')"
   ]
  },
  {
   "cell_type": "code",
   "execution_count": 7,
   "metadata": {
    "tags": []
   },
   "outputs": [
    {
     "output_type": "execute_result",
     "data": {
      "text/plain": [
       "                    crash_date crash_time   borough  zip_code  latitude  \\\n",
       "91845  2020-03-28T00:00:00.000      18:50  BROOKLYN   11233.0       0.0   \n",
       "70102  2020-06-16T00:00:00.000       8:11    QUEENS   11104.0       0.0   \n",
       "49443  2020-09-29T00:00:00.000       3:20  BROOKLYN   11209.0       0.0   \n",
       "49549  2020-09-13T00:00:00.000      14:25     BRONX   10468.0       0.0   \n",
       "49584  2020-09-28T00:00:00.000       0:00    QUEENS   11412.0       0.0   \n",
       "...                        ...        ...       ...       ...       ...   \n",
       "99935  2019-11-21T00:00:00.000      17:00     BRONX   10467.0       NaN   \n",
       "99944  2019-11-15T00:00:00.000      13:52    QUEENS   11373.0       NaN   \n",
       "99965  2020-03-04T00:00:00.000      23:47    QUEENS   11373.0       NaN   \n",
       "99982  2019-11-07T00:00:00.000      17:08    QUEENS   11373.0       NaN   \n",
       "99990  2019-11-08T00:00:00.000      19:20  BROOKLYN   11218.0       NaN   \n",
       "\n",
       "       longitude    location               on_street_name   off_street_name  \\\n",
       "91845        0.0  (0.0, 0.0)              ATLANTIC AVENUE    SACKMAN STREET   \n",
       "70102        0.0  (0.0, 0.0)                    43 STREET  QUEENS BOULEVARD   \n",
       "49443        0.0  (0.0, 0.0)                    43 STREET  QUEENS BOULEVARD   \n",
       "49549        0.0  (0.0, 0.0)  EAST BEDFORD PARK BOULEVARD      VILLA AVENUE   \n",
       "49584        0.0  (0.0, 0.0)                   115 AVENUE        200 STREET   \n",
       "...          ...         ...                          ...               ...   \n",
       "99935        NaN         NaN         CROSS ISLAND PARKWAY        149 STREET   \n",
       "99944        NaN         NaN    HORACE HARDING EXPRESSWAY  QUEENS BOULEVARD   \n",
       "99965        NaN         NaN             WAKEFIELD AVENUE    BULLARD AVENUE   \n",
       "99982        NaN         NaN      BRONX WHITESTONE BRIDGE    BULLARD AVENUE   \n",
       "99990        NaN         NaN                OCEAN PARKWAY          AVENUE C   \n",
       "\n",
       "                              cross_street_name  ...  \\\n",
       "91845                                     False  ...   \n",
       "70102                                     False  ...   \n",
       "49443  339       BAY RIDGE PARKWAY               ...   \n",
       "49549                                     False  ...   \n",
       "49584                                     False  ...   \n",
       "...                                         ...  ...   \n",
       "99935                                     False  ...   \n",
       "99944                                     False  ...   \n",
       "99965                                     False  ...   \n",
       "99982                                     False  ...   \n",
       "99990                                     False  ...   \n",
       "\n",
       "       contributing_factor_vehicle_3  contributing_factor_vehicle_4  \\\n",
       "91845                   Unspecidifed                   Unspecidifed   \n",
       "70102                   Unspecidifed                   Unspecidifed   \n",
       "49443                   Unspecidifed                   Unspecidifed   \n",
       "49549                   Unspecidifed                   Unspecidifed   \n",
       "49584                   Unspecidifed                   Unspecidifed   \n",
       "...                              ...                            ...   \n",
       "99935                   Unspecidifed                   Unspecidifed   \n",
       "99944                   Unspecidifed                   Unspecidifed   \n",
       "99965                    Unspecified                   Unspecidifed   \n",
       "99982                   Unspecidifed                   Unspecidifed   \n",
       "99990                   Unspecidifed                   Unspecidifed   \n",
       "\n",
       "       contributing_factor_vehicle_5  collision_id  \\\n",
       "91845                   Unspecidifed       4304383   \n",
       "70102                   Unspecidifed       4320537   \n",
       "49443                   Unspecidifed       4352797   \n",
       "49549                   Unspecidifed       4347357   \n",
       "49584                   Unspecidifed       4352807   \n",
       "...                              ...           ...   \n",
       "99935                   Unspecidifed       4245413   \n",
       "99944                   Unspecidifed       4241598   \n",
       "99965                   Unspecidifed       4297737   \n",
       "99982                   Unspecidifed       4237898   \n",
       "99990                   Unspecidifed       4238828   \n",
       "\n",
       "                       vehicle_type_code_1  vehicle_type_code_2  \\\n",
       "91845                                Sedan                Sedan   \n",
       "70102  Station Wagon/Sport Utility Vehicle                Sedan   \n",
       "49443                                Sedan                Sedan   \n",
       "49549  Station Wagon/Sport Utility Vehicle          Unspecified   \n",
       "49584                                Sedan                Sedan   \n",
       "...                                    ...                  ...   \n",
       "99935                                Sedan          Unspecified   \n",
       "99944  Station Wagon/Sport Utility Vehicle            Box Truck   \n",
       "99965                                Sedan        Pick-up Truck   \n",
       "99982  Station Wagon/Sport Utility Vehicle                Sedan   \n",
       "99990                                Sedan                Sedan   \n",
       "\n",
       "       vehicle_type_code_3  vehicle_type_code_4 vehicle_type_code_5  \\\n",
       "91845          Unspecified          Unspecified         Unspecified   \n",
       "70102          Unspecified          Unspecified         Unspecified   \n",
       "49443          Unspecified          Unspecified         Unspecified   \n",
       "49549          Unspecified          Unspecified         Unspecified   \n",
       "49584                Sedan          Unspecified         Unspecified   \n",
       "...                    ...                  ...                 ...   \n",
       "99935          Unspecified          Unspecified         Unspecified   \n",
       "99944          Unspecified          Unspecified         Unspecified   \n",
       "99965                Sedan          Unspecified         Unspecified   \n",
       "99982          Unspecified          Unspecified         Unspecified   \n",
       "99990          Unspecified          Unspecified         Unspecified   \n",
       "\n",
       "                                                  adress  \n",
       "91845   SACKMAN STREET,BROOKLYN,United States of America  \n",
       "70102   QUEENS BOULEVARD,QUEENS,United States of America  \n",
       "49443  QUEENS BOULEVARD,BROOKLYN,United States of Ame...  \n",
       "49549        VILLA AVENUE,BRONX,United States of America  \n",
       "49584         200 STREET,QUEENS,United States of America  \n",
       "...                                                  ...  \n",
       "99935          149 STREET,BRONX,United States of America  \n",
       "99944   QUEENS BOULEVARD,QUEENS,United States of America  \n",
       "99965     BULLARD AVENUE,QUEENS,United States of America  \n",
       "99982     BULLARD AVENUE,QUEENS,United States of America  \n",
       "99990         AVENUE C,BROOKLYN,United States of America  \n",
       "\n",
       "[8204 rows x 30 columns]"
      ],
      "text/html": "<div>\n<style scoped>\n    .dataframe tbody tr th:only-of-type {\n        vertical-align: middle;\n    }\n\n    .dataframe tbody tr th {\n        vertical-align: top;\n    }\n\n    .dataframe thead th {\n        text-align: right;\n    }\n</style>\n<table border=\"1\" class=\"dataframe\">\n  <thead>\n    <tr style=\"text-align: right;\">\n      <th></th>\n      <th>crash_date</th>\n      <th>crash_time</th>\n      <th>borough</th>\n      <th>zip_code</th>\n      <th>latitude</th>\n      <th>longitude</th>\n      <th>location</th>\n      <th>on_street_name</th>\n      <th>off_street_name</th>\n      <th>cross_street_name</th>\n      <th>...</th>\n      <th>contributing_factor_vehicle_3</th>\n      <th>contributing_factor_vehicle_4</th>\n      <th>contributing_factor_vehicle_5</th>\n      <th>collision_id</th>\n      <th>vehicle_type_code_1</th>\n      <th>vehicle_type_code_2</th>\n      <th>vehicle_type_code_3</th>\n      <th>vehicle_type_code_4</th>\n      <th>vehicle_type_code_5</th>\n      <th>adress</th>\n    </tr>\n  </thead>\n  <tbody>\n    <tr>\n      <th>91845</th>\n      <td>2020-03-28T00:00:00.000</td>\n      <td>18:50</td>\n      <td>BROOKLYN</td>\n      <td>11233.0</td>\n      <td>0.0</td>\n      <td>0.0</td>\n      <td>(0.0, 0.0)</td>\n      <td>ATLANTIC AVENUE</td>\n      <td>SACKMAN STREET</td>\n      <td>False</td>\n      <td>...</td>\n      <td>Unspecidifed</td>\n      <td>Unspecidifed</td>\n      <td>Unspecidifed</td>\n      <td>4304383</td>\n      <td>Sedan</td>\n      <td>Sedan</td>\n      <td>Unspecified</td>\n      <td>Unspecified</td>\n      <td>Unspecified</td>\n      <td>SACKMAN STREET,BROOKLYN,United States of America</td>\n    </tr>\n    <tr>\n      <th>70102</th>\n      <td>2020-06-16T00:00:00.000</td>\n      <td>8:11</td>\n      <td>QUEENS</td>\n      <td>11104.0</td>\n      <td>0.0</td>\n      <td>0.0</td>\n      <td>(0.0, 0.0)</td>\n      <td>43 STREET</td>\n      <td>QUEENS BOULEVARD</td>\n      <td>False</td>\n      <td>...</td>\n      <td>Unspecidifed</td>\n      <td>Unspecidifed</td>\n      <td>Unspecidifed</td>\n      <td>4320537</td>\n      <td>Station Wagon/Sport Utility Vehicle</td>\n      <td>Sedan</td>\n      <td>Unspecified</td>\n      <td>Unspecified</td>\n      <td>Unspecified</td>\n      <td>QUEENS BOULEVARD,QUEENS,United States of America</td>\n    </tr>\n    <tr>\n      <th>49443</th>\n      <td>2020-09-29T00:00:00.000</td>\n      <td>3:20</td>\n      <td>BROOKLYN</td>\n      <td>11209.0</td>\n      <td>0.0</td>\n      <td>0.0</td>\n      <td>(0.0, 0.0)</td>\n      <td>43 STREET</td>\n      <td>QUEENS BOULEVARD</td>\n      <td>339       BAY RIDGE PARKWAY</td>\n      <td>...</td>\n      <td>Unspecidifed</td>\n      <td>Unspecidifed</td>\n      <td>Unspecidifed</td>\n      <td>4352797</td>\n      <td>Sedan</td>\n      <td>Sedan</td>\n      <td>Unspecified</td>\n      <td>Unspecified</td>\n      <td>Unspecified</td>\n      <td>QUEENS BOULEVARD,BROOKLYN,United States of Ame...</td>\n    </tr>\n    <tr>\n      <th>49549</th>\n      <td>2020-09-13T00:00:00.000</td>\n      <td>14:25</td>\n      <td>BRONX</td>\n      <td>10468.0</td>\n      <td>0.0</td>\n      <td>0.0</td>\n      <td>(0.0, 0.0)</td>\n      <td>EAST BEDFORD PARK BOULEVARD</td>\n      <td>VILLA AVENUE</td>\n      <td>False</td>\n      <td>...</td>\n      <td>Unspecidifed</td>\n      <td>Unspecidifed</td>\n      <td>Unspecidifed</td>\n      <td>4347357</td>\n      <td>Station Wagon/Sport Utility Vehicle</td>\n      <td>Unspecified</td>\n      <td>Unspecified</td>\n      <td>Unspecified</td>\n      <td>Unspecified</td>\n      <td>VILLA AVENUE,BRONX,United States of America</td>\n    </tr>\n    <tr>\n      <th>49584</th>\n      <td>2020-09-28T00:00:00.000</td>\n      <td>0:00</td>\n      <td>QUEENS</td>\n      <td>11412.0</td>\n      <td>0.0</td>\n      <td>0.0</td>\n      <td>(0.0, 0.0)</td>\n      <td>115 AVENUE</td>\n      <td>200 STREET</td>\n      <td>False</td>\n      <td>...</td>\n      <td>Unspecidifed</td>\n      <td>Unspecidifed</td>\n      <td>Unspecidifed</td>\n      <td>4352807</td>\n      <td>Sedan</td>\n      <td>Sedan</td>\n      <td>Sedan</td>\n      <td>Unspecified</td>\n      <td>Unspecified</td>\n      <td>200 STREET,QUEENS,United States of America</td>\n    </tr>\n    <tr>\n      <th>...</th>\n      <td>...</td>\n      <td>...</td>\n      <td>...</td>\n      <td>...</td>\n      <td>...</td>\n      <td>...</td>\n      <td>...</td>\n      <td>...</td>\n      <td>...</td>\n      <td>...</td>\n      <td>...</td>\n      <td>...</td>\n      <td>...</td>\n      <td>...</td>\n      <td>...</td>\n      <td>...</td>\n      <td>...</td>\n      <td>...</td>\n      <td>...</td>\n      <td>...</td>\n      <td>...</td>\n    </tr>\n    <tr>\n      <th>99935</th>\n      <td>2019-11-21T00:00:00.000</td>\n      <td>17:00</td>\n      <td>BRONX</td>\n      <td>10467.0</td>\n      <td>NaN</td>\n      <td>NaN</td>\n      <td>NaN</td>\n      <td>CROSS ISLAND PARKWAY</td>\n      <td>149 STREET</td>\n      <td>False</td>\n      <td>...</td>\n      <td>Unspecidifed</td>\n      <td>Unspecidifed</td>\n      <td>Unspecidifed</td>\n      <td>4245413</td>\n      <td>Sedan</td>\n      <td>Unspecified</td>\n      <td>Unspecified</td>\n      <td>Unspecified</td>\n      <td>Unspecified</td>\n      <td>149 STREET,BRONX,United States of America</td>\n    </tr>\n    <tr>\n      <th>99944</th>\n      <td>2019-11-15T00:00:00.000</td>\n      <td>13:52</td>\n      <td>QUEENS</td>\n      <td>11373.0</td>\n      <td>NaN</td>\n      <td>NaN</td>\n      <td>NaN</td>\n      <td>HORACE HARDING EXPRESSWAY</td>\n      <td>QUEENS BOULEVARD</td>\n      <td>False</td>\n      <td>...</td>\n      <td>Unspecidifed</td>\n      <td>Unspecidifed</td>\n      <td>Unspecidifed</td>\n      <td>4241598</td>\n      <td>Station Wagon/Sport Utility Vehicle</td>\n      <td>Box Truck</td>\n      <td>Unspecified</td>\n      <td>Unspecified</td>\n      <td>Unspecified</td>\n      <td>QUEENS BOULEVARD,QUEENS,United States of America</td>\n    </tr>\n    <tr>\n      <th>99965</th>\n      <td>2020-03-04T00:00:00.000</td>\n      <td>23:47</td>\n      <td>QUEENS</td>\n      <td>11373.0</td>\n      <td>NaN</td>\n      <td>NaN</td>\n      <td>NaN</td>\n      <td>WAKEFIELD AVENUE</td>\n      <td>BULLARD AVENUE</td>\n      <td>False</td>\n      <td>...</td>\n      <td>Unspecified</td>\n      <td>Unspecidifed</td>\n      <td>Unspecidifed</td>\n      <td>4297737</td>\n      <td>Sedan</td>\n      <td>Pick-up Truck</td>\n      <td>Sedan</td>\n      <td>Unspecified</td>\n      <td>Unspecified</td>\n      <td>BULLARD AVENUE,QUEENS,United States of America</td>\n    </tr>\n    <tr>\n      <th>99982</th>\n      <td>2019-11-07T00:00:00.000</td>\n      <td>17:08</td>\n      <td>QUEENS</td>\n      <td>11373.0</td>\n      <td>NaN</td>\n      <td>NaN</td>\n      <td>NaN</td>\n      <td>BRONX WHITESTONE BRIDGE</td>\n      <td>BULLARD AVENUE</td>\n      <td>False</td>\n      <td>...</td>\n      <td>Unspecidifed</td>\n      <td>Unspecidifed</td>\n      <td>Unspecidifed</td>\n      <td>4237898</td>\n      <td>Station Wagon/Sport Utility Vehicle</td>\n      <td>Sedan</td>\n      <td>Unspecified</td>\n      <td>Unspecified</td>\n      <td>Unspecified</td>\n      <td>BULLARD AVENUE,QUEENS,United States of America</td>\n    </tr>\n    <tr>\n      <th>99990</th>\n      <td>2019-11-08T00:00:00.000</td>\n      <td>19:20</td>\n      <td>BROOKLYN</td>\n      <td>11218.0</td>\n      <td>NaN</td>\n      <td>NaN</td>\n      <td>NaN</td>\n      <td>OCEAN PARKWAY</td>\n      <td>AVENUE C</td>\n      <td>False</td>\n      <td>...</td>\n      <td>Unspecidifed</td>\n      <td>Unspecidifed</td>\n      <td>Unspecidifed</td>\n      <td>4238828</td>\n      <td>Sedan</td>\n      <td>Sedan</td>\n      <td>Unspecified</td>\n      <td>Unspecified</td>\n      <td>Unspecified</td>\n      <td>AVENUE C,BROOKLYN,United States of America</td>\n    </tr>\n  </tbody>\n</table>\n<p>8204 rows × 30 columns</p>\n</div>"
     },
     "metadata": {},
     "execution_count": 7
    }
   ],
   "source": [
    "import time\n",
    "locator = Nominatim(user_agent='myGeocoder')\n",
    "df['on_street_name'] = df['on_street_name'].apply(lambda x: x.strip())\n",
    "df['borough'] = df['borough'].apply(lambda x: x.strip())\n",
    "df['adress']= df['off_street_name']+','+df['borough']+','+'United States of America'\n",
    "empty_location = df[(df['location'].isna()) | (df['location'] == '(0.0, 0.0)')]\n",
    "for x in empty_location.index:\n",
    "    location = locator.geocode(df['adress'][x],timeout=10)\n",
    "    if location is None:\n",
    "        empty_location.at[x,'latitude']= None\n",
    "        empty_location.at[x,'longitude']= None\n",
    "    else:\n",
    "        print(x)\n",
    "        print(location)\n",
    "        print(location.latitude)\n",
    "        empty_location.at[x,'latitude']= location.latitude\n",
    "        empty_location.at[x,'longitude']= location.longitude\n",
    "        empty_location.at[x,'location']= str(location.latitude)+','+str(location.longitude)       \n",
    "empty_location.to_csv('updated_location.csv')\n"
   ]
  },
  {
   "cell_type": "code",
   "execution_count": null,
   "metadata": {},
   "outputs": [],
   "source": []
  }
 ]
}