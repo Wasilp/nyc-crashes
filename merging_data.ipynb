{
 "metadata": {
  "language_info": {
   "codemirror_mode": {
    "name": "ipython",
    "version": 3
   },
   "file_extension": ".py",
   "mimetype": "text/x-python",
   "name": "python",
   "nbconvert_exporter": "python",
   "pygments_lexer": "ipython3",
   "version": "3.8.5-final"
  },
  "orig_nbformat": 2,
  "kernelspec": {
   "name": "python3",
   "display_name": "Python 3",
   "language": "python"
  }
 },
 "nbformat": 4,
 "nbformat_minor": 2,
 "cells": [
  {
   "cell_type": "code",
   "execution_count": 1,
   "metadata": {},
   "outputs": [
    {
     "output_type": "execute_result",
     "data": {
      "text/plain": [
       "index                                0\n",
       "crash_date                           0\n",
       "crash_time                           0\n",
       "borough                          34943\n",
       "zip_code                         34951\n",
       "latitude                          9258\n",
       "longitude                         9258\n",
       "location                          9251\n",
       "on_street_name                   25996\n",
       "off_street_name                  52823\n",
       "cross_street_name                73936\n",
       "number_of_persons_injured            0\n",
       "number_of_persons_killed             0\n",
       "number_of_pedestrians_injured        0\n",
       "number_of_pedestrians_killed         0\n",
       "number_of_cyclist_injured            0\n",
       "number_of_cyclist_killed             0\n",
       "number_of_motorist_injured           0\n",
       "number_of_motorist_killed            0\n",
       "contributing_factor_vehicle_1        0\n",
       "contributing_factor_vehicle_2        0\n",
       "contributing_factor_vehicle_3        0\n",
       "contributing_factor_vehicle_4        0\n",
       "contributing_factor_vehicle_5        0\n",
       "collision_id                         0\n",
       "vehicle_type_code_1                  0\n",
       "vehicle_type_code_2                  0\n",
       "vehicle_type_code_3                  0\n",
       "vehicle_type_code_4                  0\n",
       "vehicle_type_code_5                  0\n",
       "adress                           99890\n",
       "dtype: int64"
      ]
     },
     "metadata": {},
     "execution_count": 1
    }
   ],
   "source": [
    "import pandas as pd \n",
    "import numpy as np\n",
    "import geopy\n",
    "from geopy.geocoders import Nominatim\n",
    "from geopy.extra.rate_limiter import RateLimiter\n",
    "import plotly_express as px\n",
    "from geopy.point import Point\n",
    "from tqdm import tqdm\n",
    "#from pandas_profiling import ProfileReport\n",
    "\n",
    "## Import df from src \n",
    "filename = 'consolidated_data.csv'\n",
    "df1 = pd.read_csv(filename)\n",
    "df1 = df1.drop('Unnamed: 0',1)\n",
    "filename = 'updated_location.csv'\n",
    "df2 = pd.read_csv(filename)\n",
    "df2 = df2.drop('Unnamed: 0',1)\n",
    "df2 = df2.drop('Unnamed: 0.1',1)\n",
    "df2 = df2.reset_index()\n",
    "df1 = df1.reset_index()\n",
    "left_a = df1.set_index('index')\n",
    "right_a = df2.set_index('index')\n",
    "df1.set_index('index', inplace=True)\n",
    "df1.update(df2.set_index('index'))\n",
    "df = df1.reset_index()  # to recover the initial structure\n",
    "nul_data = df.isnull().sum()\n",
    "## setting to false missing data\n",
    "nul_data\n",
    "df"
   ]
  },
  {
   "cell_type": "code",
   "execution_count": null,
   "metadata": {},
   "outputs": [],
   "source": []
  },
  {
   "cell_type": "code",
   "execution_count": 2,
   "metadata": {},
   "outputs": [],
   "source": [
    "filename = 'merged_data.csv'\n",
    "df = pd.read_csv(filename)\n",
    "df['crash_date'] = pd.to_datetime(df['crash_date'], errors='coerce')\n",
    "df['date'] = [d.date() for d in df['crash_date']]\n",
    "df['day_of_week'] = df['crash_date'].dt.day_name()\n",
    "df['crash_time'] = pd.to_datetime(df['crash_time'])\n",
    "df['date'] = pd.to_datetime(df['date'])\n",
    "df.to_csv('intermediate_data.csv')"
   ]
  },
  {
   "cell_type": "code",
   "execution_count": 3,
   "metadata": {},
   "outputs": [
    {
     "output_type": "execute_result",
     "data": {
      "text/plain": [
       "index                              0\n",
       "Unnamed: 0                         0\n",
       "crash_date                         0\n",
       "crash_time                         0\n",
       "borough                            0\n",
       "zip_code                           0\n",
       "latitude                         598\n",
       "longitude                        598\n",
       "location                         591\n",
       "on_street_name                     0\n",
       "off_street_name                    0\n",
       "cross_street_name                  0\n",
       "number_of_persons_injured          0\n",
       "number_of_persons_killed           0\n",
       "number_of_pedestrians_injured      0\n",
       "number_of_pedestrians_killed       0\n",
       "number_of_cyclist_injured          0\n",
       "number_of_cyclist_killed           0\n",
       "number_of_motorist_injured         0\n",
       "number_of_motorist_killed          0\n",
       "contributing_factor_vehicle_1      0\n",
       "contributing_factor_vehicle_2      0\n",
       "contributing_factor_vehicle_3      0\n",
       "contributing_factor_vehicle_4      0\n",
       "contributing_factor_vehicle_5      0\n",
       "collision_id                       0\n",
       "vehicle_type_code_1                0\n",
       "vehicle_type_code_2                0\n",
       "vehicle_type_code_3                0\n",
       "vehicle_type_code_4                0\n",
       "vehicle_type_code_5                0\n",
       "adress                             0\n",
       "date                               0\n",
       "day_of_week                        0\n",
       "dtype: int64"
      ]
     },
     "metadata": {},
     "execution_count": 3
    }
   ],
   "source": [
    "nul_data = df.isnull().sum()\n",
    "## setting to false missing data\n",
    "nul_data"
   ]
  },
  {
   "cell_type": "code",
   "execution_count": null,
   "metadata": {},
   "outputs": [],
   "source": []
  }
 ]
}