{
 "metadata": {
  "language_info": {
   "codemirror_mode": {
    "name": "ipython",
    "version": 3
   },
   "file_extension": ".py",
   "mimetype": "text/x-python",
   "name": "python",
   "nbconvert_exporter": "python",
   "pygments_lexer": "ipython3",
   "version": "3.8.5-final"
  },
  "orig_nbformat": 2,
  "kernelspec": {
   "name": "python3",
   "display_name": "Python 3",
   "language": "python"
  }
 },
 "nbformat": 4,
 "nbformat_minor": 2,
 "cells": [
  {
   "cell_type": "code",
   "execution_count": 1,
   "metadata": {},
   "outputs": [
    {
     "output_type": "execute_result",
     "data": {
      "text/plain": [
       "      crash_date           crash_time        borough  zip_code   latitude  \\\n",
       "1     2020-06-16  2020-12-13 06:22:00          BRONX   10467.0  40.816290   \n",
       "2     2020-09-28  2020-12-13 16:02:00  STATEN ISLAND   10306.0  40.583456   \n",
       "3     2019-11-10  2020-12-13 05:35:00  STATEN ISLAND   10306.0  40.583456   \n",
       "4     2020-09-28  2020-12-13 20:35:00       BROOKLYN   11203.0  40.846742   \n",
       "5     2019-11-10  2020-12-13 04:30:00          BRONX   10457.0  40.842995   \n",
       "...          ...                  ...            ...       ...        ...   \n",
       "1746  2019-06-22  2020-12-13 02:16:00          BRONX   10468.0  40.873244   \n",
       "1747  2019-06-27  2020-12-13 20:00:00          BRONX   10468.0  40.873244   \n",
       "1750  2019-07-01  2020-12-13 03:00:00          BRONX   10468.0  40.861180   \n",
       "1753  2020-04-04  2020-12-13 10:00:00          BRONX   10468.0  40.807302   \n",
       "1754  2019-06-27  2020-12-13 17:30:00          BRONX   10458.0  40.805529   \n",
       "\n",
       "      longitude                       location                on_street_name  \\\n",
       "1    -73.899966         40.8162898,-73.8999656            RICHMOND HILL ROAD   \n",
       "2    -74.149605         40.5834557,-74.1496048                WYCKOFF AVENUE   \n",
       "3    -74.149605         40.5834557,-74.1496048               ROCKAWAY AVENUE   \n",
       "4    -73.369920        40.8467419,-73.36992015           CROSS BAY BOULEVARD   \n",
       "5    -73.910978         40.8429953,-73.9109782           WOODHAVEN BOULEVARD   \n",
       "...         ...                            ...                           ...   \n",
       "1746 -73.887138          40.873244,-73.8871379                  BELT PARKWAY   \n",
       "1747 -73.887138          40.873244,-73.8871379      STATEN ISLAND EXPRESSWAY   \n",
       "1750 -73.802011           40.86118,-73.8020108  MAJOR DEEGAN EXPRESSWAY RAMP   \n",
       "1753 -73.857962  40.8073017,-73.85796214415552             PARSONS BOULEVARD   \n",
       "1754 -73.901215   40.805529,-73.90121501139662            VANWYCK EXPRESSWAY   \n",
       "\n",
       "                  off_street_name                         cross_street_name  \\\n",
       "1                 KELLY BOULEVARD                                     False   \n",
       "2                       73 STREET                                     False   \n",
       "3                       73 STREET                                     False   \n",
       "4                      157 AVENUE  690       ALBANY AVENUE                    \n",
       "5                 SHERIDAN AVENUE                                     False   \n",
       "...                           ...                                       ...   \n",
       "1746  EAST BEDFORD PARK BOULEVARD                                     False   \n",
       "1747  EAST BEDFORD PARK BOULEVARD                                     False   \n",
       "1750       FOREST PARK DRIVE EAST                                     False   \n",
       "1753              HAMILTON AVENUE                                     False   \n",
       "1754               LIBERTY AVENUE                                     False   \n",
       "\n",
       "      ...  contributing_factor_vehicle_5  collision_id  \\\n",
       "1     ...                   Unspecidifed       4322673   \n",
       "2     ...                   Unspecidifed       4352716   \n",
       "3     ...                   Unspecidifed       4239684   \n",
       "4     ...                   Unspecidifed       4352701   \n",
       "5     ...                   Unspecidifed       4238992   \n",
       "...   ...                            ...           ...   \n",
       "1746  ...                   Unspecidifed       4156176   \n",
       "1747  ...                   Unspecidifed       4160166   \n",
       "1750  ...                   Unspecidifed       4162308   \n",
       "1753  ...                   Unspecidifed       4307522   \n",
       "1754  ...                   Unspecidifed       4160164   \n",
       "\n",
       "                      vehicle_type_code_1  \\\n",
       "1                                   Sedan   \n",
       "2                                   Sedan   \n",
       "3                                   Sedan   \n",
       "4     Station Wagon/Sport Utility Vehicle   \n",
       "5                                   Sedan   \n",
       "...                                   ...   \n",
       "1746  Station Wagon/Sport Utility Vehicle   \n",
       "1747                                Sedan   \n",
       "1750                                Sedan   \n",
       "1753                                Sedan   \n",
       "1754  Station Wagon/Sport Utility Vehicle   \n",
       "\n",
       "                      vehicle_type_code_2  \\\n",
       "1                             Unspecified   \n",
       "2     Station Wagon/Sport Utility Vehicle   \n",
       "3     Station Wagon/Sport Utility Vehicle   \n",
       "4                             Unspecified   \n",
       "5                             Unspecified   \n",
       "...                                   ...   \n",
       "1746  Station Wagon/Sport Utility Vehicle   \n",
       "1747                          Unspecified   \n",
       "1750                                Sedan   \n",
       "1753  Station Wagon/Sport Utility Vehicle   \n",
       "1754  Station Wagon/Sport Utility Vehicle   \n",
       "\n",
       "                      vehicle_type_code_3  vehicle_type_code_4  \\\n",
       "1                             Unspecified          Unspecified   \n",
       "2                             Unspecified          Unspecified   \n",
       "3     Station Wagon/Sport Utility Vehicle                Sedan   \n",
       "4                             Unspecified          Unspecified   \n",
       "5                             Unspecified          Unspecified   \n",
       "...                                   ...                  ...   \n",
       "1746                                Sedan          Unspecified   \n",
       "1747                          Unspecified          Unspecified   \n",
       "1750                          Unspecified          Unspecified   \n",
       "1753                          Unspecified          Unspecified   \n",
       "1754                          Unspecified          Unspecified   \n",
       "\n",
       "      vehicle_type_code_5                                             adress  \\\n",
       "1             Unspecified     KELLY BOULEVARD,BRONX,United States of America   \n",
       "2             Unspecified   73 STREET,STATEN ISLAND,United States of America   \n",
       "3             Unspecified   73 STREET,STATEN ISLAND,United States of America   \n",
       "4             Unspecified       157 AVENUE,BROOKLYN,United States of America   \n",
       "5             Unspecified     SHERIDAN AVENUE,BRONX,United States of America   \n",
       "...                   ...                                                ...   \n",
       "1746          Unspecified  EAST BEDFORD PARK BOULEVARD,BRONX,United State...   \n",
       "1747          Unspecified  EAST BEDFORD PARK BOULEVARD,BRONX,United State...   \n",
       "1750          Unspecified  FOREST PARK DRIVE EAST,BRONX,United States of ...   \n",
       "1753          Unspecified     HAMILTON AVENUE,BRONX,United States of America   \n",
       "1754          Unspecified      LIBERTY AVENUE,BRONX,United States of America   \n",
       "\n",
       "            date day_of_week  \n",
       "1     2020-06-16     Tuesday  \n",
       "2     2020-09-28      Monday  \n",
       "3     2019-11-10      Sunday  \n",
       "4     2020-09-28      Monday  \n",
       "5     2019-11-10      Sunday  \n",
       "...          ...         ...  \n",
       "1746  2019-06-22    Saturday  \n",
       "1747  2019-06-27    Thursday  \n",
       "1750  2019-07-01      Monday  \n",
       "1753  2020-04-04    Saturday  \n",
       "1754  2019-06-27    Thursday  \n",
       "\n",
       "[1157 rows x 32 columns]"
      ],
      "text/html": "<div>\n<style scoped>\n    .dataframe tbody tr th:only-of-type {\n        vertical-align: middle;\n    }\n\n    .dataframe tbody tr th {\n        vertical-align: top;\n    }\n\n    .dataframe thead th {\n        text-align: right;\n    }\n</style>\n<table border=\"1\" class=\"dataframe\">\n  <thead>\n    <tr style=\"text-align: right;\">\n      <th></th>\n      <th>crash_date</th>\n      <th>crash_time</th>\n      <th>borough</th>\n      <th>zip_code</th>\n      <th>latitude</th>\n      <th>longitude</th>\n      <th>location</th>\n      <th>on_street_name</th>\n      <th>off_street_name</th>\n      <th>cross_street_name</th>\n      <th>...</th>\n      <th>contributing_factor_vehicle_5</th>\n      <th>collision_id</th>\n      <th>vehicle_type_code_1</th>\n      <th>vehicle_type_code_2</th>\n      <th>vehicle_type_code_3</th>\n      <th>vehicle_type_code_4</th>\n      <th>vehicle_type_code_5</th>\n      <th>adress</th>\n      <th>date</th>\n      <th>day_of_week</th>\n    </tr>\n  </thead>\n  <tbody>\n    <tr>\n      <th>1</th>\n      <td>2020-06-16</td>\n      <td>2020-12-13 06:22:00</td>\n      <td>BRONX</td>\n      <td>10467.0</td>\n      <td>40.816290</td>\n      <td>-73.899966</td>\n      <td>40.8162898,-73.8999656</td>\n      <td>RICHMOND HILL ROAD</td>\n      <td>KELLY BOULEVARD</td>\n      <td>False</td>\n      <td>...</td>\n      <td>Unspecidifed</td>\n      <td>4322673</td>\n      <td>Sedan</td>\n      <td>Unspecified</td>\n      <td>Unspecified</td>\n      <td>Unspecified</td>\n      <td>Unspecified</td>\n      <td>KELLY BOULEVARD,BRONX,United States of America</td>\n      <td>2020-06-16</td>\n      <td>Tuesday</td>\n    </tr>\n    <tr>\n      <th>2</th>\n      <td>2020-09-28</td>\n      <td>2020-12-13 16:02:00</td>\n      <td>STATEN ISLAND</td>\n      <td>10306.0</td>\n      <td>40.583456</td>\n      <td>-74.149605</td>\n      <td>40.5834557,-74.1496048</td>\n      <td>WYCKOFF AVENUE</td>\n      <td>73 STREET</td>\n      <td>False</td>\n      <td>...</td>\n      <td>Unspecidifed</td>\n      <td>4352716</td>\n      <td>Sedan</td>\n      <td>Station Wagon/Sport Utility Vehicle</td>\n      <td>Unspecified</td>\n      <td>Unspecified</td>\n      <td>Unspecified</td>\n      <td>73 STREET,STATEN ISLAND,United States of America</td>\n      <td>2020-09-28</td>\n      <td>Monday</td>\n    </tr>\n    <tr>\n      <th>3</th>\n      <td>2019-11-10</td>\n      <td>2020-12-13 05:35:00</td>\n      <td>STATEN ISLAND</td>\n      <td>10306.0</td>\n      <td>40.583456</td>\n      <td>-74.149605</td>\n      <td>40.5834557,-74.1496048</td>\n      <td>ROCKAWAY AVENUE</td>\n      <td>73 STREET</td>\n      <td>False</td>\n      <td>...</td>\n      <td>Unspecidifed</td>\n      <td>4239684</td>\n      <td>Sedan</td>\n      <td>Station Wagon/Sport Utility Vehicle</td>\n      <td>Station Wagon/Sport Utility Vehicle</td>\n      <td>Sedan</td>\n      <td>Unspecified</td>\n      <td>73 STREET,STATEN ISLAND,United States of America</td>\n      <td>2019-11-10</td>\n      <td>Sunday</td>\n    </tr>\n    <tr>\n      <th>4</th>\n      <td>2020-09-28</td>\n      <td>2020-12-13 20:35:00</td>\n      <td>BROOKLYN</td>\n      <td>11203.0</td>\n      <td>40.846742</td>\n      <td>-73.369920</td>\n      <td>40.8467419,-73.36992015</td>\n      <td>CROSS BAY BOULEVARD</td>\n      <td>157 AVENUE</td>\n      <td>690       ALBANY AVENUE</td>\n      <td>...</td>\n      <td>Unspecidifed</td>\n      <td>4352701</td>\n      <td>Station Wagon/Sport Utility Vehicle</td>\n      <td>Unspecified</td>\n      <td>Unspecified</td>\n      <td>Unspecified</td>\n      <td>Unspecified</td>\n      <td>157 AVENUE,BROOKLYN,United States of America</td>\n      <td>2020-09-28</td>\n      <td>Monday</td>\n    </tr>\n    <tr>\n      <th>5</th>\n      <td>2019-11-10</td>\n      <td>2020-12-13 04:30:00</td>\n      <td>BRONX</td>\n      <td>10457.0</td>\n      <td>40.842995</td>\n      <td>-73.910978</td>\n      <td>40.8429953,-73.9109782</td>\n      <td>WOODHAVEN BOULEVARD</td>\n      <td>SHERIDAN AVENUE</td>\n      <td>False</td>\n      <td>...</td>\n      <td>Unspecidifed</td>\n      <td>4238992</td>\n      <td>Sedan</td>\n      <td>Unspecified</td>\n      <td>Unspecified</td>\n      <td>Unspecified</td>\n      <td>Unspecified</td>\n      <td>SHERIDAN AVENUE,BRONX,United States of America</td>\n      <td>2019-11-10</td>\n      <td>Sunday</td>\n    </tr>\n    <tr>\n      <th>...</th>\n      <td>...</td>\n      <td>...</td>\n      <td>...</td>\n      <td>...</td>\n      <td>...</td>\n      <td>...</td>\n      <td>...</td>\n      <td>...</td>\n      <td>...</td>\n      <td>...</td>\n      <td>...</td>\n      <td>...</td>\n      <td>...</td>\n      <td>...</td>\n      <td>...</td>\n      <td>...</td>\n      <td>...</td>\n      <td>...</td>\n      <td>...</td>\n      <td>...</td>\n      <td>...</td>\n    </tr>\n    <tr>\n      <th>1746</th>\n      <td>2019-06-22</td>\n      <td>2020-12-13 02:16:00</td>\n      <td>BRONX</td>\n      <td>10468.0</td>\n      <td>40.873244</td>\n      <td>-73.887138</td>\n      <td>40.873244,-73.8871379</td>\n      <td>BELT PARKWAY</td>\n      <td>EAST BEDFORD PARK BOULEVARD</td>\n      <td>False</td>\n      <td>...</td>\n      <td>Unspecidifed</td>\n      <td>4156176</td>\n      <td>Station Wagon/Sport Utility Vehicle</td>\n      <td>Station Wagon/Sport Utility Vehicle</td>\n      <td>Sedan</td>\n      <td>Unspecified</td>\n      <td>Unspecified</td>\n      <td>EAST BEDFORD PARK BOULEVARD,BRONX,United State...</td>\n      <td>2019-06-22</td>\n      <td>Saturday</td>\n    </tr>\n    <tr>\n      <th>1747</th>\n      <td>2019-06-27</td>\n      <td>2020-12-13 20:00:00</td>\n      <td>BRONX</td>\n      <td>10468.0</td>\n      <td>40.873244</td>\n      <td>-73.887138</td>\n      <td>40.873244,-73.8871379</td>\n      <td>STATEN ISLAND EXPRESSWAY</td>\n      <td>EAST BEDFORD PARK BOULEVARD</td>\n      <td>False</td>\n      <td>...</td>\n      <td>Unspecidifed</td>\n      <td>4160166</td>\n      <td>Sedan</td>\n      <td>Unspecified</td>\n      <td>Unspecified</td>\n      <td>Unspecified</td>\n      <td>Unspecified</td>\n      <td>EAST BEDFORD PARK BOULEVARD,BRONX,United State...</td>\n      <td>2019-06-27</td>\n      <td>Thursday</td>\n    </tr>\n    <tr>\n      <th>1750</th>\n      <td>2019-07-01</td>\n      <td>2020-12-13 03:00:00</td>\n      <td>BRONX</td>\n      <td>10468.0</td>\n      <td>40.861180</td>\n      <td>-73.802011</td>\n      <td>40.86118,-73.8020108</td>\n      <td>MAJOR DEEGAN EXPRESSWAY RAMP</td>\n      <td>FOREST PARK DRIVE EAST</td>\n      <td>False</td>\n      <td>...</td>\n      <td>Unspecidifed</td>\n      <td>4162308</td>\n      <td>Sedan</td>\n      <td>Sedan</td>\n      <td>Unspecified</td>\n      <td>Unspecified</td>\n      <td>Unspecified</td>\n      <td>FOREST PARK DRIVE EAST,BRONX,United States of ...</td>\n      <td>2019-07-01</td>\n      <td>Monday</td>\n    </tr>\n    <tr>\n      <th>1753</th>\n      <td>2020-04-04</td>\n      <td>2020-12-13 10:00:00</td>\n      <td>BRONX</td>\n      <td>10468.0</td>\n      <td>40.807302</td>\n      <td>-73.857962</td>\n      <td>40.8073017,-73.85796214415552</td>\n      <td>PARSONS BOULEVARD</td>\n      <td>HAMILTON AVENUE</td>\n      <td>False</td>\n      <td>...</td>\n      <td>Unspecidifed</td>\n      <td>4307522</td>\n      <td>Sedan</td>\n      <td>Station Wagon/Sport Utility Vehicle</td>\n      <td>Unspecified</td>\n      <td>Unspecified</td>\n      <td>Unspecified</td>\n      <td>HAMILTON AVENUE,BRONX,United States of America</td>\n      <td>2020-04-04</td>\n      <td>Saturday</td>\n    </tr>\n    <tr>\n      <th>1754</th>\n      <td>2019-06-27</td>\n      <td>2020-12-13 17:30:00</td>\n      <td>BRONX</td>\n      <td>10458.0</td>\n      <td>40.805529</td>\n      <td>-73.901215</td>\n      <td>40.805529,-73.90121501139662</td>\n      <td>VANWYCK EXPRESSWAY</td>\n      <td>LIBERTY AVENUE</td>\n      <td>False</td>\n      <td>...</td>\n      <td>Unspecidifed</td>\n      <td>4160164</td>\n      <td>Station Wagon/Sport Utility Vehicle</td>\n      <td>Station Wagon/Sport Utility Vehicle</td>\n      <td>Unspecified</td>\n      <td>Unspecified</td>\n      <td>Unspecified</td>\n      <td>LIBERTY AVENUE,BRONX,United States of America</td>\n      <td>2019-06-27</td>\n      <td>Thursday</td>\n    </tr>\n  </tbody>\n</table>\n<p>1157 rows × 32 columns</p>\n</div>"
     },
     "metadata": {},
     "execution_count": 1
    }
   ],
   "source": [
    "from sklearn.preprocessing import LabelBinarizer\n",
    "from sklearn.preprocessing import OneHotEncoder\n",
    "import pandas as pd \n",
    "import numpy as np\n",
    "filename = 'intermediate_data.csv'\n",
    "df = pd.read_csv(filename)\n",
    "df = df.dropna()\n",
    "df = df.drop('Unnamed: 0',1)\n",
    "df = df.drop('Unnamed: 0.1',1)\n",
    "df = df.drop('index',1)\n",
    "df.shape"
   ]
  },
  {
   "cell_type": "code",
   "execution_count": 4,
   "metadata": {},
   "outputs": [
    {
     "output_type": "execute_result",
     "data": {
      "text/plain": [
       "(1157, 4938)"
      ]
     },
     "metadata": {},
     "execution_count": 4
    }
   ],
   "source": [
    "y = OneHotEncoder().fit_transform(df).toarray()\n",
    "y.shape"
   ]
  },
  {
   "cell_type": "code",
   "execution_count": 3,
   "metadata": {},
   "outputs": [
    {
     "output_type": "error",
     "ename": "NameError",
     "evalue": "name 'train_test_split' is not defined",
     "traceback": [
      "\u001b[0;31m---------------------------------------------------------------------------\u001b[0m",
      "\u001b[0;31mNameError\u001b[0m                                 Traceback (most recent call last)",
      "\u001b[0;32m<ipython-input-3-02cc4c5d58ef>\u001b[0m in \u001b[0;36m<module>\u001b[0;34m\u001b[0m\n\u001b[0;32m----> 1\u001b[0;31m \u001b[0mX_train\u001b[0m\u001b[0;34m,\u001b[0m \u001b[0mX_test\u001b[0m\u001b[0;34m,\u001b[0m \u001b[0my_train\u001b[0m\u001b[0;34m,\u001b[0m \u001b[0my_test\u001b[0m \u001b[0;34m=\u001b[0m \u001b[0mtrain_test_split\u001b[0m\u001b[0;34m(\u001b[0m\u001b[0mX\u001b[0m\u001b[0;34m,\u001b[0m\u001b[0my\u001b[0m\u001b[0;34m,\u001b[0m \u001b[0mrandom_state\u001b[0m\u001b[0;34m=\u001b[0m\u001b[0;36m41\u001b[0m\u001b[0;34m,\u001b[0m \u001b[0mtest_size\u001b[0m\u001b[0;34m=\u001b[0m\u001b[0;36m0.2\u001b[0m\u001b[0;34m)\u001b[0m\u001b[0;34m\u001b[0m\u001b[0;34m\u001b[0m\u001b[0m\n\u001b[0m\u001b[1;32m      2\u001b[0m \u001b[0mprint\u001b[0m\u001b[0;34m(\u001b[0m\u001b[0mX_train\u001b[0m\u001b[0;34m.\u001b[0m\u001b[0mshape\u001b[0m\u001b[0;34m)\u001b[0m\u001b[0;34m\u001b[0m\u001b[0;34m\u001b[0m\u001b[0m\n\u001b[1;32m      3\u001b[0m \u001b[0;31m# Standardizing each feature using the train mean and standard deviation\u001b[0m\u001b[0;34m\u001b[0m\u001b[0;34m\u001b[0m\u001b[0;34m\u001b[0m\u001b[0m\n\u001b[1;32m      4\u001b[0m \u001b[0;34m\u001b[0m\u001b[0m\n\u001b[1;32m      5\u001b[0m \u001b[0;34m\u001b[0m\u001b[0m\n",
      "\u001b[0;31mNameError\u001b[0m: name 'train_test_split' is not defined"
     ]
    }
   ],
   "source": [
    "X_train, X_test, y_train, y_test = train_test_split(X,y, random_state=41, test_size=0.2)\n",
    "print(X_train.shape)\n",
    "# Standardizing each feature using the train mean and standard deviation\n",
    "\n",
    "\n",
    "for idx, name in enumerate(dataset.feature_names):\n",
    "    # Get mean and standard deviation from training set (per feature)\n",
    "    mean = np.mean(X_train[idx])\n",
    "    std = np.std(X_train[idx])\n",
    "    print(f\"Feature '{name}' has mean {mean:.2f} and standard deviation {std:.2f}\")\n",
    "    # Standardize training and testing set using the mean and standard deviation from the training set\n",
    "    std_scale = preprocessing.StandardScaler().fit(X_train)\n",
    "    X_train = std_scale.transform(X_train)\n",
    "    X_test_std  = std_scale.transform(X_test)"
   ]
  },
  {
   "cell_type": "code",
   "execution_count": null,
   "metadata": {},
   "outputs": [],
   "source": []
  }
 ]
}